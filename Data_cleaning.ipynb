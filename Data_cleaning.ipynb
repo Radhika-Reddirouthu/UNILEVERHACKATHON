{
 "cells": [
  {
   "cell_type": "code",
   "execution_count": 1,
   "metadata": {},
   "outputs": [],
   "source": [
    "import pandas as pd\n",
    "import numpy as np\n",
    "import matplotlib.pyplot as plt\n",
    "import seaborn as sns\n",
    "sns.set_style(\"whitegrid\")"
   ]
  },
  {
   "cell_type": "markdown",
   "metadata": {},
   "source": [
    "# \"6Ps Data.xlsx\" dataset"
   ]
  },
  {
   "cell_type": "code",
   "execution_count": 2,
   "metadata": {},
   "outputs": [],
   "source": [
    "df= pd.read_excel('6Ps Data.xlsx')"
   ]
  },
  {
   "cell_type": "markdown",
   "metadata": {},
   "source": [
    "### Removing the spaces in the column names"
   ]
  },
  {
   "cell_type": "code",
   "execution_count": 3,
   "metadata": {},
   "outputs": [],
   "source": [
    "cols = df.columns\n",
    "cols = cols.map(lambda x: x.replace(' ', '_'))\n",
    "df.columns = cols"
   ]
  },
  {
   "cell_type": "code",
   "execution_count": 4,
   "metadata": {},
   "outputs": [],
   "source": [
    "cols = df.columns\n",
    "cols = cols.map(lambda x: x.replace('-', '_'))\n",
    "df.columns = cols"
   ]
  },
  {
   "cell_type": "code",
   "execution_count": 5,
   "metadata": {},
   "outputs": [
    {
     "data": {
      "text/plain": [
       "Index(['Data_Source', 'Freq_of_Delivery', 'Region', 'COUNTRY',\n",
       "       'Category_Group', 'Category', 'Market', 'Sector', 'Category_Gender',\n",
       "       'Sector/Variance', 'GMI_Level', 'UL_/_Comp', 'Global_Manufacturer',\n",
       "       'Global_Brand', 'Local_Brand', 'Measure_/_KPI', 'Primary_Key', '6P',\n",
       "       'Source', 'Supplier', 'Measure_Type', 'Measure_Category', 'Last_12W_2',\n",
       "       'Last_12W_1', 'L12W_1_Significance', 'Last_12W', 'L12W_Significance',\n",
       "       'MAT_2', 'MAT_1', 'MAT_1_Significance', 'MAT', 'MAT_Significance'],\n",
       "      dtype='object')"
      ]
     },
     "execution_count": 5,
     "metadata": {},
     "output_type": "execute_result"
    }
   ],
   "source": [
    "df.columns"
   ]
  },
  {
   "cell_type": "code",
   "execution_count": 6,
   "metadata": {},
   "outputs": [
    {
     "data": {
      "text/plain": [
       "(374303, 32)"
      ]
     },
     "execution_count": 6,
     "metadata": {},
     "output_type": "execute_result"
    }
   ],
   "source": [
    "df.shape"
   ]
  },
  {
   "cell_type": "code",
   "execution_count": 7,
   "metadata": {},
   "outputs": [
    {
     "data": {
      "text/plain": [
       "Data_Source                 0\n",
       "Freq_of_Delivery            0\n",
       "Region                      0\n",
       "COUNTRY                     0\n",
       "Category_Group           3680\n",
       "Category                 3702\n",
       "Market                   3680\n",
       "Sector                      0\n",
       "Category_Gender        262855\n",
       "Sector/Variance          2130\n",
       "GMI_Level               54087\n",
       "UL_/_Comp                   0\n",
       "Global_Manufacturer         0\n",
       "Global_Brand              838\n",
       "Local_Brand                80\n",
       "Measure_/_KPI               0\n",
       "Primary_Key                 0\n",
       "6P                          0\n",
       "Source                      0\n",
       "Supplier                  132\n",
       "Measure_Type           104392\n",
       "Measure_Category       214818\n",
       "Last_12W_2                  0\n",
       "Last_12W_1                  0\n",
       "L12W_1_Significance     76387\n",
       "Last_12W                    0\n",
       "L12W_Significance       77628\n",
       "MAT_2                       0\n",
       "MAT_1                       0\n",
       "MAT_1_Significance     104192\n",
       "MAT                         0\n",
       "MAT_Significance        96464\n",
       "dtype: int64"
      ]
     },
     "execution_count": 7,
     "metadata": {},
     "output_type": "execute_result"
    }
   ],
   "source": [
    "df.isna().sum()"
   ]
  },
  {
   "cell_type": "markdown",
   "metadata": {},
   "source": [
    "### Updating null values from \"L12W_1_Significance\" column:\n",
    "On analyzing the data I understood that \"L12W_1_Significance\" will be zero in the following cases\n",
    "1. If diff between \"Last_12W_2\" and \"Last_12W_1\" is less than 2\n",
    "2. Tf either \"Last_12W_2\" or \"Last_12W_1\" will be zero\n",
    "\n",
    "If \"Last_12W_1\">\"Last_12W_2\"+2 then \"L12W_1_Significance\" will be 1.0 and\n",
    "If \"Last_12W_1\"<\"Last_12W_2\"+2 then \"L12W_1_Significance\" will be -1.0\n",
    "\n",
    "The same technique is used to fill the missing values of L12W_Significance, MAT_1_Significance and MAT_Significance also"
   ]
  },
  {
   "cell_type": "code",
   "execution_count": 8,
   "metadata": {},
   "outputs": [
    {
     "data": {
      "text/plain": [
       "(-100, 100)"
      ]
     },
     "execution_count": 8,
     "metadata": {},
     "output_type": "execute_result"
    },
    {
     "data": {
      "image/png": "[encoded data removed]",
      "text/plain": [
       "<Figure size 432x432 with 3 Axes>"
      ]
     },
     "metadata": {
      "needs_background": "light"
     },
     "output_type": "display_data"
    }
   ],
   "source": [
    "temp=(df['Last_12W_2'][:200]-df['Last_12W_1'][:200])\n",
    "#ax.bar(df[\"L12W_1_Significance\"], width=0.2, color='b', align='center')\n",
    "ax=sns.jointplot(temp[:200], df[\"L12W_1_Significance\"][:200], color='g')\n",
    "#ax.set(xlim=(0,100),ylim=(-1,1))\n",
    "ax.ax_marg_x.set_xlim(-100, 100)\n",
    "#ax.bar(df['Last_12W_2'][:200], df[\"L12W_1_Significance\"][:200], width=0.2, color='r', align='center')\n",
    "#plt.show()"
   ]
  },
  {
   "cell_type": "code",
   "execution_count": 9,
   "metadata": {},
   "outputs": [
    {
     "name": "stderr",
     "output_type": "stream",
     "text": [
      "/home/india/anaconda2/envs/pytorch_learning/lib/python3.6/site-packages/ipykernel_launcher.py:4: SettingWithCopyWarning: \n",
      "A value is trying to be set on a copy of a slice from a DataFrame\n",
      "\n",
      "See the caveats in the documentation: http://pandas.pydata.org/pandas-docs/stable/user_guide/indexing.html#returning-a-view-versus-a-copy\n",
      "  after removing the cwd from sys.path.\n",
      "/home/india/anaconda2/envs/pytorch_learning/lib/python3.6/site-packages/ipykernel_launcher.py:6: SettingWithCopyWarning: \n",
      "A value is trying to be set on a copy of a slice from a DataFrame\n",
      "\n",
      "See the caveats in the documentation: http://pandas.pydata.org/pandas-docs/stable/user_guide/indexing.html#returning-a-view-versus-a-copy\n",
      "  \n",
      "/home/india/anaconda2/envs/pytorch_learning/lib/python3.6/site-packages/ipykernel_launcher.py:8: SettingWithCopyWarning: \n",
      "A value is trying to be set on a copy of a slice from a DataFrame\n",
      "\n",
      "See the caveats in the documentation: http://pandas.pydata.org/pandas-docs/stable/user_guide/indexing.html#returning-a-view-versus-a-copy\n",
      "  \n"
     ]
    }
   ],
   "source": [
    "for i in range(len(df)):\n",
    "    if (np.isnan(df['L12W_1_Significance'][i])):\n",
    "        if(((np.subtract(df['Last_12W_1'][i],df['Last_12W_2'][i])<=2)and(np.subtract(df['Last_12W_1'][i],df['Last_12W_2'][i])>=-2))or(df['Last_12W_1'][i]==0)or(df['Last_12W_2'][i]==0)):\n",
    "            df['L12W_1_Significance'][i]=0.0\n",
    "        elif(df['Last_12W_1'][i]>df['Last_12W_2'][i]+2):\n",
    "            df['L12W_1_Significance'][i]=1.0\n",
    "        else:\n",
    "            df['L12W_1_Significance'][i]=-1.0\n",
    "    #print(df[i])\n",
    "            \n",
    "        "
   ]
  },
  {
   "cell_type": "markdown",
   "metadata": {},
   "source": [
    "### Updating null values from \"L12W_Significance\" column:"
   ]
  },
  {
   "cell_type": "code",
   "execution_count": 10,
   "metadata": {},
   "outputs": [
    {
     "name": "stderr",
     "output_type": "stream",
     "text": [
      "/home/india/anaconda2/envs/pytorch_learning/lib/python3.6/site-packages/ipykernel_launcher.py:4: SettingWithCopyWarning: \n",
      "A value is trying to be set on a copy of a slice from a DataFrame\n",
      "\n",
      "See the caveats in the documentation: http://pandas.pydata.org/pandas-docs/stable/user_guide/indexing.html#returning-a-view-versus-a-copy\n",
      "  after removing the cwd from sys.path.\n",
      "/home/india/anaconda2/envs/pytorch_learning/lib/python3.6/site-packages/ipykernel_launcher.py:6: SettingWithCopyWarning: \n",
      "A value is trying to be set on a copy of a slice from a DataFrame\n",
      "\n",
      "See the caveats in the documentation: http://pandas.pydata.org/pandas-docs/stable/user_guide/indexing.html#returning-a-view-versus-a-copy\n",
      "  \n",
      "/home/india/anaconda2/envs/pytorch_learning/lib/python3.6/site-packages/ipykernel_launcher.py:8: SettingWithCopyWarning: \n",
      "A value is trying to be set on a copy of a slice from a DataFrame\n",
      "\n",
      "See the caveats in the documentation: http://pandas.pydata.org/pandas-docs/stable/user_guide/indexing.html#returning-a-view-versus-a-copy\n",
      "  \n"
     ]
    }
   ],
   "source": [
    "for i in range(len(df)):\n",
    "    if (np.isnan(df['L12W_Significance'][i])):\n",
    "        if(((np.subtract(df['Last_12W_1'][i],df['Last_12W'][i])<=2)and(np.subtract(df['Last_12W_1'][i],df['Last_12W'][i])>=-2))or(df['Last_12W_1'][i]==0)or(df['Last_12W'][i]==0)):\n",
    "            df['L12W_Significance'][i]=0.0\n",
    "        elif(df['Last_12W_1'][i]>df['Last_12W'][i]+2):\n",
    "            df['L12W_Significance'][i]=-1.0\n",
    "        else:\n",
    "            df['L12W_Significance'][i]=1.0"
   ]
  },
  {
   "cell_type": "markdown",
   "metadata": {},
   "source": [
    "### Updating null values from \"MAT_1_Significance\" column:"
   ]
  },
  {
   "cell_type": "code",
   "execution_count": 11,
   "metadata": {},
   "outputs": [
    {
     "name": "stderr",
     "output_type": "stream",
     "text": [
      "/home/india/anaconda2/envs/pytorch_learning/lib/python3.6/site-packages/ipykernel_launcher.py:4: SettingWithCopyWarning: \n",
      "A value is trying to be set on a copy of a slice from a DataFrame\n",
      "\n",
      "See the caveats in the documentation: http://pandas.pydata.org/pandas-docs/stable/user_guide/indexing.html#returning-a-view-versus-a-copy\n",
      "  after removing the cwd from sys.path.\n",
      "/home/india/anaconda2/envs/pytorch_learning/lib/python3.6/site-packages/ipykernel_launcher.py:8: SettingWithCopyWarning: \n",
      "A value is trying to be set on a copy of a slice from a DataFrame\n",
      "\n",
      "See the caveats in the documentation: http://pandas.pydata.org/pandas-docs/stable/user_guide/indexing.html#returning-a-view-versus-a-copy\n",
      "  \n",
      "/home/india/anaconda2/envs/pytorch_learning/lib/python3.6/site-packages/ipykernel_launcher.py:6: SettingWithCopyWarning: \n",
      "A value is trying to be set on a copy of a slice from a DataFrame\n",
      "\n",
      "See the caveats in the documentation: http://pandas.pydata.org/pandas-docs/stable/user_guide/indexing.html#returning-a-view-versus-a-copy\n",
      "  \n"
     ]
    }
   ],
   "source": [
    "for i in range(len(df)):\n",
    "    if (np.isnan(df['MAT_1_Significance'][i])):\n",
    "        if(((np.subtract(df['MAT_1'][i],df['MAT_2'][i])<=2)and(np.subtract(df['MAT_1'][i],df['MAT_2'][i])>=-2))or(df['MAT_1'][i]==0)or(df['MAT_1'][i]==0)):\n",
    "            df['MAT_1_Significance'][i]=0.0\n",
    "        elif(df['MAT_2'][i]>df['MAT_1'][i]+2):\n",
    "            df['MAT_1_Significance'][i]=-1.0\n",
    "        else:\n",
    "            df['MAT_1_Significance'][i]=1.0"
   ]
  },
  {
   "cell_type": "markdown",
   "metadata": {},
   "source": [
    "### Updating null values from \"MAT_Significance\" column:"
   ]
  },
  {
   "cell_type": "code",
   "execution_count": 12,
   "metadata": {},
   "outputs": [
    {
     "name": "stderr",
     "output_type": "stream",
     "text": [
      "/home/india/anaconda2/envs/pytorch_learning/lib/python3.6/site-packages/ipykernel_launcher.py:4: SettingWithCopyWarning: \n",
      "A value is trying to be set on a copy of a slice from a DataFrame\n",
      "\n",
      "See the caveats in the documentation: http://pandas.pydata.org/pandas-docs/stable/user_guide/indexing.html#returning-a-view-versus-a-copy\n",
      "  after removing the cwd from sys.path.\n",
      "/home/india/anaconda2/envs/pytorch_learning/lib/python3.6/site-packages/ipykernel_launcher.py:8: SettingWithCopyWarning: \n",
      "A value is trying to be set on a copy of a slice from a DataFrame\n",
      "\n",
      "See the caveats in the documentation: http://pandas.pydata.org/pandas-docs/stable/user_guide/indexing.html#returning-a-view-versus-a-copy\n",
      "  \n",
      "/home/india/anaconda2/envs/pytorch_learning/lib/python3.6/site-packages/ipykernel_launcher.py:6: SettingWithCopyWarning: \n",
      "A value is trying to be set on a copy of a slice from a DataFrame\n",
      "\n",
      "See the caveats in the documentation: http://pandas.pydata.org/pandas-docs/stable/user_guide/indexing.html#returning-a-view-versus-a-copy\n",
      "  \n"
     ]
    }
   ],
   "source": [
    "for i in range(len(df)):\n",
    "    if (np.isnan(df['MAT_Significance'][i])):\n",
    "        if(((np.subtract(df['MAT_1'][i],df['MAT'][i])<=2)and(np.subtract(df['MAT_1'][i],df['MAT'][i])>=-2))or(df['MAT_1'][i]==0)or(df['MAT'][i]==0)):\n",
    "            df['MAT_Significance'][i]=0.0\n",
    "        elif(df['MAT'][i]>df['MAT_1'][i]+2):\n",
    "            df['MAT_Significance'][i]=1.0\n",
    "        else:\n",
    "            df['MAT_Significance'][i]=-1.0"
   ]
  },
  {
   "cell_type": "markdown",
   "metadata": {},
   "source": [
    "### Updating null values in Measure_Type:\n"
   ]
  },
  {
   "cell_type": "markdown",
   "metadata": {},
   "source": [
    "Finding Unique Values of Measure_Type"
   ]
  },
  {
   "cell_type": "code",
   "execution_count": 13,
   "metadata": {},
   "outputs": [
    {
     "data": {
      "text/plain": [
       "array(['MAT Quarter vs YAG', 'Put People First', 'Unlock the Magic', nan,\n",
       "       'Build Brand Love', 'Unlock The Magic'], dtype=object)"
      ]
     },
     "execution_count": 13,
     "metadata": {},
     "output_type": "execute_result"
    }
   ],
   "source": [
    "column_values = df['Measure_Type'].values.ravel()\n",
    "\n",
    "unique_values =  pd.unique(column_values)\n",
    "unique_values"
   ]
  },
  {
   "cell_type": "markdown",
   "metadata": {},
   "source": [
    "On analysing the data found that Measure_Type column is dependent on Supplier and Primary Key "
   ]
  },
  {
   "cell_type": "code",
   "execution_count": null,
   "metadata": {},
   "outputs": [
    {
     "name": "stderr",
     "output_type": "stream",
     "text": [
      "/home/india/anaconda2/envs/pytorch_learning/lib/python3.6/site-packages/ipykernel_launcher.py:10: SettingWithCopyWarning: \n",
      "A value is trying to be set on a copy of a slice from a DataFrame\n",
      "\n",
      "See the caveats in the documentation: http://pandas.pydata.org/pandas-docs/stable/user_guide/indexing.html#returning-a-view-versus-a-copy\n",
      "  # Remove the CWD from sys.path while we load stuff.\n"
     ]
    }
   ],
   "source": [
    "for i in range(len(df)):\n",
    "    if (pd.isna(df['Measure_Type'][i])):\n",
    "        if (((df['Supplier'][i]=='iFinance')or(df['Supplier'][i]=='Teradata'))and(df['Primary_Key'][i]=='Unaided Brand Awareness')):\n",
    "            df['Measure_Type'][i]='MAT Quarter vs YAG'\n",
    "        elif (((df['Supplier'][i]=='IPSOS TURKEY')or(df['Supplier'][i]=='Worldpanel')or(df['Supplier'][i]=='Nielsen')or(df['Supplier'][i]=='Numerator'))and(df['Primary_Key'][i]=='Retail Sales Value growth')):\n",
    "            df['Measure_Type'][i]='Put People First'\n",
    "        elif ((df['Supplier'][i]=='Millward Brown')and((df['Primary_Key'][i]=='Better Quality Attribute')or((df['Primary_Key'][i]=='Unaided Brand Awareness')and(df['Measure_/_KPI'][i]=='Total Brand Com. Awareness'))or(df['Primary_Key'][i]=='Attractive Pack Attribute'))):\n",
    "            df['Measure_Type'][i]='Unlock the Magic'\n",
    "        elif ((df['Supplier'][i]=='Millward Brown')and((df['Primary_Key'][i]=='Brand Equity (MAT data only)')or((df['Primary_Key'][i]=='Unaided Brand Awareness')and(df['Measure_/_KPI'][i]=='Unaided Brand Awareness')))):\n",
    "            df['Measure_Type'][i]='Build Brand Love'\n",
    "        elif ((df['Supplier'][i]=='Nielsen')and((df['Primary_Key'][i]=='Average Price Index')or(df['Primary_Key'][i]=='Quality Of Distribution'))):\n",
    "            df['Measure_Type'][i]='Unlock The Magic'\n",
    "            #df['Measure_Type'].replace(np.nan, 'Unlock The Magic',inplace=True)\n",
    "            #print(df['Measure_Type'][i])\n",
    "        else:\n",
    "            continue\n"
   ]
  },
  {
   "cell_type": "markdown",
   "metadata": {},
   "source": [
    "### Updating null values in Category Column:"
   ]
  },
  {
   "cell_type": "code",
   "execution_count": 16,
   "metadata": {},
   "outputs": [
    {
     "name": "stdout",
     "output_type": "stream",
     "text": [
      "Deodorants & Fragrances\n",
      "Deodorants & Fragrances\n",
      "Deodorants & Fragrances\n",
      "Deodorants & Fragrances\n",
      "Deodorants & Fragrances\n",
      "Deodorants & Fragrances\n",
      "Deodorants & Fragrances\n",
      "Deodorants & Fragrances\n",
      "Deodorants & Fragrances\n",
      "Deodorants & Fragrances\n",
      "Deodorants & Fragrances\n",
      "Deodorants & Fragrances\n",
      "Deodorants & Fragrances\n",
      "Deodorants & Fragrances\n",
      "Deodorants & Fragrances\n",
      "Deodorants & Fragrances\n",
      "Deodorants & Fragrances\n",
      "Deodorants & Fragrances\n",
      "Deodorants & Fragrances\n",
      "Deodorants & Fragrances\n",
      "Deodorants & Fragrances\n",
      "Deodorants & Fragrances\n"
     ]
    },
    {
     "name": "stderr",
     "output_type": "stream",
     "text": [
      "/home/india/anaconda2/envs/pytorch_learning/lib/python3.6/site-packages/ipykernel_launcher.py:4: SettingWithCopyWarning: \n",
      "A value is trying to be set on a copy of a slice from a DataFrame\n",
      "\n",
      "See the caveats in the documentation: http://pandas.pydata.org/pandas-docs/stable/user_guide/indexing.html#returning-a-view-versus-a-copy\n",
      "  after removing the cwd from sys.path.\n"
     ]
    }
   ],
   "source": [
    "for i in range(len(df)):\n",
    "    if (pd.isna(df['Category'][i])):\n",
    "        if(df['Market'][i]=='Deodorants'):\n",
    "            df['Category'][i]= 'Deodorants & Fragrances'\n",
    "            print(df[\"Category\"][i])\n",
    "            "
   ]
  },
  {
   "cell_type": "markdown",
   "metadata": {},
   "source": [
    " Removing Category_Gender, GMI_Level, Measure_Category from the data set as there are found independent columns and have many null values"
   ]
  },
  {
   "cell_type": "code",
   "execution_count": 17,
   "metadata": {},
   "outputs": [],
   "source": [
    "df=df.drop([\"Category_Gender\",\"GMI_Level\",\"Measure_Category\"],axis=1)"
   ]
  },
  {
   "cell_type": "markdown",
   "metadata": {},
   "source": [
    " Removing the rows still containing null values in the columns which are found independent of other columns."
   ]
  },
  {
   "cell_type": "code",
   "execution_count": 18,
   "metadata": {},
   "outputs": [],
   "source": [
    "df= df.dropna()"
   ]
  },
  {
   "cell_type": "code",
   "execution_count": 19,
   "metadata": {},
   "outputs": [
    {
     "data": {
      "text/plain": [
       "Data_Source            0\n",
       "Freq_of_Delivery       0\n",
       "Region                 0\n",
       "COUNTRY                0\n",
       "Category_Group         0\n",
       "Category               0\n",
       "Market                 0\n",
       "Sector                 0\n",
       "Sector/Variance        0\n",
       "UL_/_Comp              0\n",
       "Global_Manufacturer    0\n",
       "Global_Brand           0\n",
       "Local_Brand            0\n",
       "Measure_/_KPI          0\n",
       "Primary_Key            0\n",
       "6P                     0\n",
       "Source                 0\n",
       "Supplier               0\n",
       "Measure_Type           0\n",
       "Last_12W_2             0\n",
       "Last_12W_1             0\n",
       "L12W_1_Significance    0\n",
       "Last_12W               0\n",
       "L12W_Significance      0\n",
       "MAT_2                  0\n",
       "MAT_1                  0\n",
       "MAT_1_Significance     0\n",
       "MAT                    0\n",
       "MAT_Significance       0\n",
       "dtype: int64"
      ]
     },
     "execution_count": 19,
     "metadata": {},
     "output_type": "execute_result"
    }
   ],
   "source": [
    "df.isna().sum()"
   ]
  },
  {
   "cell_type": "markdown",
   "metadata": {},
   "source": [
    "Save the dataset "
   ]
  },
  {
   "cell_type": "code",
   "execution_count": 63,
   "metadata": {},
   "outputs": [],
   "source": [
    "df.to_csv('6P_trainData.csv',index=False)"
   ]
  },
  {
   "cell_type": "markdown",
   "metadata": {},
   "source": [
    "# \"Finance.xlsx\" dataset"
   ]
  },
  {
   "cell_type": "code",
   "execution_count": 21,
   "metadata": {},
   "outputs": [],
   "source": [
    "df1=pd.read_excel('Finance.xlsx')"
   ]
  },
  {
   "cell_type": "code",
   "execution_count": 22,
   "metadata": {},
   "outputs": [
    {
     "data": {
      "text/plain": [
       "Index(['Company code', 'Org Descripton', 'Sales Organization', 'Org Code',\n",
       "       'Big C', 'Small C', 'Category', 'Brand', 'Key Customer', 'Geography',\n",
       "       'Fiscal year/period', '\\nGross Sales Value (GSV)', '\\nNIV', 'Turnover',\n",
       "       'Acquisition Turnover', 'Turnover PY', 'Disposal Turnover',\n",
       "       'Deflated CY Turnover', 'Deflated Acquisition Turnover',\n",
       "       'Total Supply Chain Cost', 'Gross Profit',\n",
       "       'Brand and Marketing Investment', 'PBO',\n",
       "       'Deflated Turnover Hyper adjustment', 'SC Controlled Costs',\n",
       "       'Underlying Operating Profit', 'Underlying Operating Profit by PCat',\n",
       "       'Material Costs', 'Production Costs', 'Distribution Costs',\n",
       "       'SC Overheads & Allocated SCC', 'Supply Chain Total Business Waste'],\n",
       "      dtype='object')"
      ]
     },
     "execution_count": 22,
     "metadata": {},
     "output_type": "execute_result"
    }
   ],
   "source": [
    "df1.columns"
   ]
  },
  {
   "cell_type": "code",
   "execution_count": 23,
   "metadata": {},
   "outputs": [
    {
     "data": {
      "text/plain": [
       "Company code                             0\n",
       "Org Descripton                           0\n",
       "Sales Organization                       4\n",
       "Org Code                                 0\n",
       "Big C                                  506\n",
       "Small C                                506\n",
       "Category                                 0\n",
       "Brand                                    6\n",
       "Key Customer                           156\n",
       "Geography                                0\n",
       "Fiscal year/period                       0\n",
       "\\nGross Sales Value (GSV)                0\n",
       "\\nNIV                                    0\n",
       "Turnover                               352\n",
       "Acquisition Turnover                   354\n",
       "Turnover PY                            352\n",
       "Disposal Turnover                      354\n",
       "Deflated CY Turnover                   354\n",
       "Deflated Acquisition Turnover          354\n",
       "Total Supply Chain Cost                354\n",
       "Gross Profit                             6\n",
       "Brand and Marketing Investment           6\n",
       "PBO                                      6\n",
       "Deflated Turnover Hyper adjustment       6\n",
       "SC Controlled Costs                      6\n",
       "Underlying Operating Profit              6\n",
       "Underlying Operating Profit by PCat      6\n",
       "Material Costs                           6\n",
       "Production Costs                         6\n",
       "Distribution Costs                     178\n",
       "SC Overheads & Allocated SCC           178\n",
       "Supply Chain Total Business Waste      178\n",
       "dtype: int64"
      ]
     },
     "execution_count": 23,
     "metadata": {},
     "output_type": "execute_result"
    }
   ],
   "source": [
    "df1.isna().sum()"
   ]
  },
  {
   "cell_type": "code",
   "execution_count": 24,
   "metadata": {},
   "outputs": [
    {
     "data": {
      "text/plain": [
       "array(['OTHERS', 'ICE Cream', 'MAF HYPERMARKET ABCDD PVT LIMITE',\n",
       "       'METRO HABIB CASH & CARRY ABCDD', 'IMTIAZ PROVISION STORE', nan,\n",
       "       'General Trade', 'Local modern trade', 'E-Commerce',\n",
       "       'CANTEEN STORES DEPARTMENT', 'UTILITY STORES CORPORATION',\n",
       "       'CHASE UP SUPERMARKET', 'SAVE MART PVT LIMITED', 'V SUPERMARKET',\n",
       "       'PUREIT', 'HoReCa', 'MCDONALDS', 'UNILEVER AQQQER', 'ABRL LIMITED',\n",
       "       'HABIB GULZAR INTERNATIONAL', 'KFC', 'Food solution direct',\n",
       "       'CENTRAL SALES DEPOT'], dtype=object)"
      ]
     },
     "execution_count": 24,
     "metadata": {},
     "output_type": "execute_result"
    }
   ],
   "source": [
    "column_values = df1['Key Customer'].values.ravel()\n",
    "\n",
    "unique_values =  pd.unique(column_values)\n",
    "unique_values"
   ]
  },
  {
   "cell_type": "markdown",
   "metadata": {},
   "source": [
    "### Updating null values in \"Key Customer Column\""
   ]
  },
  {
   "cell_type": "code",
   "execution_count": 25,
   "metadata": {},
   "outputs": [
    {
     "name": "stderr",
     "output_type": "stream",
     "text": [
      "/home/india/anaconda2/envs/pytorch_learning/lib/python3.6/site-packages/ipykernel_launcher.py:3: SettingWithCopyWarning: \n",
      "A value is trying to be set on a copy of a slice from a DataFrame\n",
      "\n",
      "See the caveats in the documentation: http://pandas.pydata.org/pandas-docs/stable/user_guide/indexing.html#returning-a-view-versus-a-copy\n",
      "  This is separate from the ipykernel package so we can avoid doing imports until\n"
     ]
    }
   ],
   "source": [
    "for i in range(len(df1)):\n",
    "    if(pd.isna(df1[\"Key Customer\"][i])):\n",
    "        df1[\"Key Customer\"][i]=\"OTHERS\""
   ]
  },
  {
   "cell_type": "markdown",
   "metadata": {},
   "source": [
    "Removing Big C and Small C columns as there are many null values and found to be independent columns"
   ]
  },
  {
   "cell_type": "code",
   "execution_count": 26,
   "metadata": {},
   "outputs": [],
   "source": [
    "df1=df1.drop([\"Big C\",\"Small C\"],axis=1)"
   ]
  },
  {
   "cell_type": "markdown",
   "metadata": {},
   "source": [
    "Removing rows that still contain null values"
   ]
  },
  {
   "cell_type": "code",
   "execution_count": 27,
   "metadata": {},
   "outputs": [],
   "source": [
    "df1=df1.dropna()"
   ]
  },
  {
   "cell_type": "code",
   "execution_count": 32,
   "metadata": {},
   "outputs": [
    {
     "data": {
      "text/plain": [
       "Company code                           0\n",
       "Org Descripton                         0\n",
       "Sales Organization                     0\n",
       "Org Code                               0\n",
       "Category                               0\n",
       "Brand                                  0\n",
       "Key Customer                           0\n",
       "Geography                              0\n",
       "Fiscal year/period                     0\n",
       "\\nGross Sales Value (GSV)              0\n",
       "\\nNIV                                  0\n",
       "Turnover                               0\n",
       "Acquisition Turnover                   0\n",
       "Turnover PY                            0\n",
       "Disposal Turnover                      0\n",
       "Deflated CY Turnover                   0\n",
       "Deflated Acquisition Turnover          0\n",
       "Total Supply Chain Cost                0\n",
       "Gross Profit                           0\n",
       "Brand and Marketing Investment         0\n",
       "PBO                                    0\n",
       "Deflated Turnover Hyper adjustment     0\n",
       "SC Controlled Costs                    0\n",
       "Underlying Operating Profit            0\n",
       "Underlying Operating Profit by PCat    0\n",
       "Material Costs                         0\n",
       "Production Costs                       0\n",
       "Distribution Costs                     0\n",
       "SC Overheads & Allocated SCC           0\n",
       "Supply Chain Total Business Waste      0\n",
       "dtype: int64"
      ]
     },
     "execution_count": 32,
     "metadata": {},
     "output_type": "execute_result"
    }
   ],
   "source": [
    "df1.isna().sum()"
   ]
  },
  {
   "cell_type": "markdown",
   "metadata": {},
   "source": [
    "save as csv file"
   ]
  },
  {
   "cell_type": "code",
   "execution_count": 62,
   "metadata": {},
   "outputs": [],
   "source": [
    "df1.to_csv('Finance_trainData.csv',index=False)"
   ]
  },
  {
   "cell_type": "markdown",
   "metadata": {},
   "source": [
    "# \"Nielsen Market Netherlands 2019 MAT Report_modified.xlsx\" dataset"
   ]
  },
  {
   "cell_type": "code",
   "execution_count": 29,
   "metadata": {},
   "outputs": [],
   "source": [
    "df2=pd.read_excel('Nielsen Market Netherlands 2019 MAT Report_modified.xlsx')"
   ]
  },
  {
   "cell_type": "code",
   "execution_count": 30,
   "metadata": {},
   "outputs": [
    {
     "data": {
      "text/plain": [
       "(29639, 15)"
      ]
     },
     "execution_count": 30,
     "metadata": {},
     "output_type": "execute_result"
    }
   ],
   "source": [
    "df2.shape"
   ]
  },
  {
   "cell_type": "code",
   "execution_count": 31,
   "metadata": {},
   "outputs": [
    {
     "data": {
      "text/plain": [
       "Periods                    2\n",
       "Market Desc               25\n",
       "CATEGORY                  21\n",
       "MARKET                    17\n",
       "COMPANY                   20\n",
       "GLOBAL BRAND              26\n",
       "BRAND                      9\n",
       "SEGMENT                   16\n",
       "Base Value               174\n",
       "Promo Base Value         179\n",
       "Value Sales              159\n",
       "Base Price per Unit      262\n",
       "Price pr Unit           1592\n",
       "Base Price per L/KG      329\n",
       "Price pr L/KG          11462\n",
       "dtype: int64"
      ]
     },
     "execution_count": 31,
     "metadata": {},
     "output_type": "execute_result"
    }
   ],
   "source": [
    "df2.isna().sum()"
   ]
  },
  {
   "cell_type": "markdown",
   "metadata": {},
   "source": [
    "### Updating null values in \"Price pr L/KG\" column:\n",
    "On analysing the data fond that \"Price pr L/KG\" is dependent on Base Price per Unit, Price pr Unit, Base Price per L/KG"
   ]
  },
  {
   "cell_type": "code",
   "execution_count": 33,
   "metadata": {},
   "outputs": [
    {
     "name": "stderr",
     "output_type": "stream",
     "text": [
      "/home/india/anaconda2/envs/pytorch_learning/lib/python3.6/site-packages/ipykernel_launcher.py:4: SettingWithCopyWarning: \n",
      "A value is trying to be set on a copy of a slice from a DataFrame\n",
      "\n",
      "See the caveats in the documentation: http://pandas.pydata.org/pandas-docs/stable/user_guide/indexing.html#returning-a-view-versus-a-copy\n",
      "  after removing the cwd from sys.path.\n"
     ]
    }
   ],
   "source": [
    "for i in range(len(df2)):\n",
    "    if pd.isna(df2['Price pr L/KG'][i]):\n",
    "        if pd.notnull(df2['Base Price per L/KG'][i])and pd.notnull(df2['Price pr Unit'][i])and pd.notnull(df2['Base Price per Unit'][i]):\n",
    "            df2[\"Price pr L/KG\"][i]=df2['Price pr Unit'][i]+(df2['Base Price per L/KG'][i]-df2['Base Price per Unit'][i])"
   ]
  },
  {
   "cell_type": "code",
   "execution_count": 34,
   "metadata": {},
   "outputs": [],
   "source": [
    "df2=df2.dropna()"
   ]
  },
  {
   "cell_type": "code",
   "execution_count": 35,
   "metadata": {},
   "outputs": [
    {
     "data": {
      "text/plain": [
       "Periods                0\n",
       "Market Desc            0\n",
       "CATEGORY               0\n",
       "MARKET                 0\n",
       "COMPANY                0\n",
       "GLOBAL BRAND           0\n",
       "BRAND                  0\n",
       "SEGMENT                0\n",
       "Base Value             0\n",
       "Promo Base Value       0\n",
       "Value Sales            0\n",
       "Base Price per Unit    0\n",
       "Price pr Unit          0\n",
       "Base Price per L/KG    0\n",
       "Price pr L/KG          0\n",
       "dtype: int64"
      ]
     },
     "execution_count": 35,
     "metadata": {},
     "output_type": "execute_result"
    }
   ],
   "source": [
    "df2.isna().sum()"
   ]
  },
  {
   "cell_type": "code",
   "execution_count": 61,
   "metadata": {},
   "outputs": [],
   "source": [
    "df2.to_csv('Netherlands_trainData.csv',index=False)"
   ]
  },
  {
   "cell_type": "markdown",
   "metadata": {},
   "source": [
    "# Nielsen Market UK Deodorants_modified.xlsx"
   ]
  },
  {
   "cell_type": "code",
   "execution_count": 64,
   "metadata": {},
   "outputs": [],
   "source": [
    "df3=pd.read_excel('Nielsen Market UK Deodorants_modified.xlsx')"
   ]
  },
  {
   "cell_type": "code",
   "execution_count": 65,
   "metadata": {},
   "outputs": [
    {
     "data": {
      "text/plain": [
       "(84127, 19)"
      ]
     },
     "execution_count": 65,
     "metadata": {},
     "output_type": "execute_result"
    }
   ],
   "source": [
    "df3.shape"
   ]
  },
  {
   "cell_type": "code",
   "execution_count": 68,
   "metadata": {},
   "outputs": [
    {
     "data": {
      "text/plain": [
       "PERIOD                  0\n",
       "CATEGORY GROUP          2\n",
       "CATEGORY                0\n",
       "MARKET                  1\n",
       "COMPANY                53\n",
       "GLOBAL BRAND            1\n",
       "BRAND                   7\n",
       "FORMAT                  8\n",
       "TYPE                    2\n",
       "TARGET USER             7\n",
       "SUBBRAND                0\n",
       "VARIANT                 1\n",
       "ITEM                    2\n",
       "GB BRAND                1\n",
       "ACTUAL PACK SIZE       29\n",
       "Value Sales ('000)     18\n",
       "Volume Sales ('000)    10\n",
       "Unit Sales ('000)      15\n",
       "dtype: int64"
      ]
     },
     "execution_count": 68,
     "metadata": {},
     "output_type": "execute_result"
    }
   ],
   "source": [
    "df3.isna().sum()"
   ]
  },
  {
   "cell_type": "markdown",
   "metadata": {},
   "source": [
    "Removing \"Inc Value\" as it completely have null Values"
   ]
  },
  {
   "cell_type": "code",
   "execution_count": 67,
   "metadata": {},
   "outputs": [],
   "source": [
    "df3=df3.drop([\"Inc Value\"],axis=1)"
   ]
  },
  {
   "cell_type": "markdown",
   "metadata": {},
   "source": [
    "Removing rows that contain null values as there are only few null values in this data set"
   ]
  },
  {
   "cell_type": "code",
   "execution_count": 69,
   "metadata": {},
   "outputs": [],
   "source": [
    "df3=df3.dropna()"
   ]
  },
  {
   "cell_type": "code",
   "execution_count": 70,
   "metadata": {},
   "outputs": [
    {
     "data": {
      "text/plain": [
       "PERIOD                 0\n",
       "CATEGORY GROUP         0\n",
       "CATEGORY               0\n",
       "MARKET                 0\n",
       "COMPANY                0\n",
       "GLOBAL BRAND           0\n",
       "BRAND                  0\n",
       "FORMAT                 0\n",
       "TYPE                   0\n",
       "TARGET USER            0\n",
       "SUBBRAND               0\n",
       "VARIANT                0\n",
       "ITEM                   0\n",
       "GB BRAND               0\n",
       "ACTUAL PACK SIZE       0\n",
       "Value Sales ('000)     0\n",
       "Volume Sales ('000)    0\n",
       "Unit Sales ('000)      0\n",
       "dtype: int64"
      ]
     },
     "execution_count": 70,
     "metadata": {},
     "output_type": "execute_result"
    }
   ],
   "source": [
    "df3.isna().sum()"
   ]
  },
  {
   "cell_type": "code",
   "execution_count": 71,
   "metadata": {},
   "outputs": [],
   "source": [
    "df3.to_csv('UK_trainData.csv',index=False)"
   ]
  },
  {
   "cell_type": "markdown",
   "metadata": {},
   "source": [
    "# \"Penetration Data\" dataset"
   ]
  },
  {
   "cell_type": "code",
   "execution_count": 51,
   "metadata": {},
   "outputs": [],
   "source": [
    "df4=pd.read_excel('Penetration Data.xlsx')"
   ]
  },
  {
   "cell_type": "code",
   "execution_count": 52,
   "metadata": {},
   "outputs": [
    {
     "data": {
      "text/plain": [
       "(184115, 34)"
      ]
     },
     "execution_count": 52,
     "metadata": {},
     "output_type": "execute_result"
    }
   ],
   "source": [
    "df4.shape"
   ]
  },
  {
   "cell_type": "code",
   "execution_count": 53,
   "metadata": {},
   "outputs": [
    {
     "data": {
      "text/plain": [
       "Year                                  0\n",
       "Period View                           0\n",
       "Period                                0\n",
       "Date                                  0\n",
       "Region                                0\n",
       "Country                               0\n",
       "Category Group                        0\n",
       "Category                              9\n",
       "Category Segment                      0\n",
       "Category Detail                       0\n",
       "UL / Comp                             0\n",
       "Global Manufacturer                   0\n",
       "Global Brand                          0\n",
       "Local Brand                           0\n",
       "BE Tracker                           62\n",
       "Metric                                0\n",
       "Measure Type                          0\n",
       "Measure Category                  84528\n",
       "Measure / KPI                         0\n",
       "Source                                0\n",
       "Supplier                              0\n",
       "Absolute Value (Two years ago)        0\n",
       "Absolute Value (a year ago)           0\n",
       "Absolute Value                        0\n",
       "Value Difference                      0\n",
       "Significance                          0\n",
       "Quarter - 1                       84528\n",
       "Prior Period Quarter              84528\n",
       "Latest Quarter                    84528\n",
       "Value Difference QoQ              84528\n",
       "Frequency of Delivery               624\n",
       "Hierarchy                         84528\n",
       "Category Variance                 24346\n",
       "Demographic                           0\n",
       "dtype: int64"
      ]
     },
     "execution_count": 53,
     "metadata": {},
     "output_type": "execute_result"
    }
   ],
   "source": [
    "df4.isna().sum()"
   ]
  },
  {
   "cell_type": "code",
   "execution_count": 54,
   "metadata": {},
   "outputs": [],
   "source": [
    "df4=df4.drop([\"Quarter - 1\",\"Prior Period Quarter\",\"Latest Quarter\",\"Value Difference QoQ\",\"Hierarchy\",\"Measure Category\",\"Category Variance\"],axis=1)"
   ]
  },
  {
   "cell_type": "code",
   "execution_count": 56,
   "metadata": {},
   "outputs": [],
   "source": [
    "df4=df4.dropna()"
   ]
  },
  {
   "cell_type": "code",
   "execution_count": 57,
   "metadata": {},
   "outputs": [
    {
     "data": {
      "text/plain": [
       "Year                              0\n",
       "Period View                       0\n",
       "Period                            0\n",
       "Date                              0\n",
       "Region                            0\n",
       "Country                           0\n",
       "Category Group                    0\n",
       "Category                          0\n",
       "Category Segment                  0\n",
       "Category Detail                   0\n",
       "UL / Comp                         0\n",
       "Global Manufacturer               0\n",
       "Global Brand                      0\n",
       "Local Brand                       0\n",
       "BE Tracker                        0\n",
       "Metric                            0\n",
       "Measure Type                      0\n",
       "Measure / KPI                     0\n",
       "Source                            0\n",
       "Supplier                          0\n",
       "Absolute Value (Two years ago)    0\n",
       "Absolute Value (a year ago)       0\n",
       "Absolute Value                    0\n",
       "Value Difference                  0\n",
       "Significance                      0\n",
       "Frequency of Delivery             0\n",
       "Demographic                       0\n",
       "dtype: int64"
      ]
     },
     "execution_count": 57,
     "metadata": {},
     "output_type": "execute_result"
    }
   ],
   "source": [
    "df4.isna().sum()"
   ]
  },
  {
   "cell_type": "code",
   "execution_count": 59,
   "metadata": {},
   "outputs": [],
   "source": [
    "df4.to_csv('Penetration_trainData.csv',index=False)"
   ]
  },
  {
   "cell_type": "code",
   "execution_count": null,
   "metadata": {},
   "outputs": [],
   "source": []
  },
  {
   "cell_type": "code",
   "execution_count": null,
   "metadata": {},
   "outputs": [],
   "source": []
  }
 ],
 "metadata": {
  "kernelspec": {
   "display_name": "Python 3",
   "language": "python",
   "name": "python3"
  },
  "language_info": {
   "codemirror_mode": {
    "name": "ipython",
    "version": 3
   },
   "file_extension": ".py",
   "mimetype": "text/x-python",
   "name": "python",
   "nbconvert_exporter": "python",
   "pygments_lexer": "ipython3",
   "version": "3.6.9"
  }
 },
 "nbformat": 4,
 "nbformat_minor": 2
}
